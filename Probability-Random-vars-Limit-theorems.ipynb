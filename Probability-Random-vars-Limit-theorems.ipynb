{
 "cells": [
  {
   "cell_type": "markdown",
   "metadata": {},
   "source": [
    "# Lab probability №1"
   ]
  },
  {
   "cell_type": "markdown",
   "metadata": {},
   "source": [
    "                                                                                  Maria Dobko id_number=5"
   ]
  },
  {
   "cell_type": "markdown",
   "metadata": {},
   "source": [
    "## PROBLEM 1"
   ]
  },
  {
   "cell_type": "markdown",
   "metadata": {},
   "source": [
    "A sequence of n random digits d1 d2 d3 . . . dn is generated. Calculate numerically the probability p of the event that your id number occurs in this sequence. Consider the cases n = 100, n = 200, n = 1000."
   ]
  },
  {
   "cell_type": "raw",
   "metadata": {},
   "source": [
    "    Generating m experiments each has a different sequence n digits long(These events are IID rv.). Pn is the expected value of the indicator X of success that a choosen combination of digits will appear at least once in the generated sequence.\n",
    "    Sum of all these indicators divided by number of experiments is actually EX. \n",
    "    Number of experiments was found experimentally.\n",
    "    \n",
    "    Used LLN:  According to the law, the average of the results obtained from a large number of trials should be close to the expected value, and will tend to become closer as more trials are performed."
   ]
  },
  {
   "cell_type": "code",
   "execution_count": 25,
   "metadata": {
    "collapsed": false
   },
   "outputs": [
    {
     "name": "stdout",
     "output_type": "stream",
     "text": [
      "[1] 0.09\n"
     ]
    }
   ],
   "source": [
    "c1 = 0\n",
    "\n",
    "for (m in 1:400){    #m=400 - number of samples\n",
    "    sequence <- sample(0:9, 100, replace=T)    #n=100 \n",
    "    \n",
    "    for(i in 1:98){\n",
    "        found_one = 0\n",
    "        if (sequence[i] == 0 & sequence[i+1]== 0 & sequence[i+2]== 5) {   \n",
    "            found_one = 1\n",
    "            break\n",
    "        }\n",
    "    }\n",
    "    c1 = c1 + found_one\n",
    "}\n",
    "print(c1/400)    # EX"
   ]
  },
  {
   "cell_type": "code",
   "execution_count": 27,
   "metadata": {
    "collapsed": false
   },
   "outputs": [
    {
     "name": "stdout",
     "output_type": "stream",
     "text": [
      "[1] 0.1575\n"
     ]
    }
   ],
   "source": [
    "c2 = 0\n",
    "\n",
    "for (n in 1:400){    #500 - number of samples\n",
    "    sequence <- sample(0:9, 200, replace=T)    # n=200 \n",
    "    \n",
    "    for(i in 1:198){\n",
    "        found_one = 0\n",
    "        if (sequence[i] == 0 & sequence[i+1]== 0 & sequence[i+2]== 5) {   \n",
    "            found_one = 1\n",
    "            break\n",
    "        }\n",
    "    }\n",
    "     c2 = c2 + found_one\n",
    "}\n",
    "print(c2/400)"
   ]
  },
  {
   "cell_type": "code",
   "execution_count": 28,
   "metadata": {
    "collapsed": false
   },
   "outputs": [
    {
     "name": "stdout",
     "output_type": "stream",
     "text": [
      "[1] 0.62\n"
     ]
    }
   ],
   "source": [
    "c3 = 0\n",
    "m = 98\n",
    "\n",
    "for (n in 1:400){    #400 - number of samples\n",
    "    sequence <- sample(0:9, 1000, replace=T)    #n=100 n=200 n=1000\n",
    "    \n",
    "    for(i in 1:998){\n",
    "        found_one = 0\n",
    "        if (sequence[i] == 0 & sequence[i+1]== 0 & sequence[i+2]== 5) {   \n",
    "            found_one = 1\n",
    "            break\n",
    "        }\n",
    "    }\n",
    "    c3 = c3 + found_one\n",
    "     \n",
    "}\n",
    "print(c3/400)"
   ]
  },
  {
   "cell_type": "raw",
   "metadata": {},
   "source": [
    "Expectancy of X increases with n. "
   ]
  },
  {
   "cell_type": "markdown",
   "metadata": {},
   "source": [
    "## PROBLEM 2"
   ]
  },
  {
   "cell_type": "markdown",
   "metadata": {},
   "source": [
    "Calculate numerically the expected number k n of occurrences of your id number in the sequences d 1 d 2 d 3 . . . d n from the previous task. Consider the cases n = 100, n = 200, n = 1000."
   ]
  },
  {
   "cell_type": "raw",
   "metadata": {},
   "source": [
    "Simulated the sequence N times, calculate the number Xk of times that your id number occurs in that sequence.\n",
    "\n",
    "Used LLN:  According to the law, the average of the results obtained from a large number of trials should be close to the expected value, and will tend to become closer as more trials are performed."
   ]
  },
  {
   "cell_type": "code",
   "execution_count": 31,
   "metadata": {
    "collapsed": false
   },
   "outputs": [
    {
     "name": "stdout",
     "output_type": "stream",
     "text": [
      "[1] 0.1014286\n"
     ]
    }
   ],
   "source": [
    "counter = 0\n",
    "m = 98\n",
    "\n",
    "for (n in 1:700){    #700 - number of trials\n",
    "    sequence <- sample(0:9, 100, replace=T)    #n=100\n",
    "    \n",
    "    for(i in 1:m){\n",
    "        found_one = 0\n",
    "        if (sequence[i] == 0 & sequence[i+1]== 0 & sequence[i+2]== 5) {   \n",
    "            found_one = 1               #indicator that idnumber was found\n",
    "        }\n",
    "    counter = counter + found_one    \n",
    "    }\n",
    "    \n",
    "}\n",
    "print(counter/700)"
   ]
  },
  {
   "cell_type": "code",
   "execution_count": 32,
   "metadata": {
    "collapsed": false
   },
   "outputs": [
    {
     "name": "stdout",
     "output_type": "stream",
     "text": [
      "[1] 0.1914286\n"
     ]
    }
   ],
   "source": [
    "counter1 = 0\n",
    "m = 198\n",
    "\n",
    "for (n in 1:700){    #100 - number of samples\n",
    "    sequence <- sample(0:9, 200, replace=T)    #n=100 n=200 n=1000\n",
    "    \n",
    "    for(i in 1:m){\n",
    "        found_one = 0\n",
    "        if (sequence[i] == 0 & sequence[i+1]== 0 & sequence[i+2]== 5) {   \n",
    "            found_one = 1\n",
    "        }\n",
    "    counter1 = counter1 + found_one\n",
    "    }\n",
    "    \n",
    "}\n",
    "print(counter1/700)"
   ]
  },
  {
   "cell_type": "code",
   "execution_count": 33,
   "metadata": {
    "collapsed": false
   },
   "outputs": [
    {
     "name": "stdout",
     "output_type": "stream",
     "text": [
      "[1] 0.9628571\n"
     ]
    }
   ],
   "source": [
    "counter2 = 0\n",
    "m = 998\n",
    "\n",
    "for (n in 1:700){    #100 - number of samples\n",
    "    sequence <- sample(0:9, 1000, replace=T)    #n=100 n=200 n=1000\n",
    "    \n",
    "    for(i in 1:m){\n",
    "        found_one = 0\n",
    "        if (sequence[i] == 0 & sequence[i+1]== 0 & sequence[i+2]== 5) {   \n",
    "            found_one = 1\n",
    "        }\n",
    "    counter2 = counter2 + found_one\n",
    "    }\n",
    "    \n",
    "}\n",
    "print(counter2/700)"
   ]
  },
  {
   "cell_type": "markdown",
   "metadata": {},
   "source": [
    "## PROBLEM 3"
   ]
  },
  {
   "cell_type": "markdown",
   "metadata": {},
   "source": [
    "A sequence of random digits d 1 d 2 d 3 . . . is generated until the first occurrence of your id number. Calculate numerically the expected length of the sequence obtained."
   ]
  },
  {
   "cell_type": "code",
   "execution_count": 34,
   "metadata": {
    "collapsed": false
   },
   "outputs": [
    {
     "name": "stdout",
     "output_type": "stream",
     "text": [
      "[1] 1017.197\n"
     ]
    }
   ],
   "source": [
    "#Sample mean = sum/1000      by LLN Mn->E(x)\n",
    "\n",
    "sum <- 0\n",
    "for (n in 1:1000){\n",
    "    l <-list()\n",
    "    l <- sample(0:9, 3)\n",
    "    for(n in 1:10000){\n",
    "        if(l[length(l)-2] == 0 && l[length(l)-1]== 0 && l[length(l)]== 5){\n",
    "            break\n",
    "        }else{\n",
    "            l[length(l)+1] <- sample(0:9, 1)\n",
    "        }\n",
    "    }\n",
    "    sum = sum + length(l)\n",
    "}\n",
    "\n",
    "print(sum/1000)"
   ]
  },
  {
   "cell_type": "markdown",
   "metadata": {},
   "source": [
    "## PROBLEM 4"
   ]
  },
  {
   "cell_type": "markdown",
   "metadata": {},
   "source": [
    "In this task, you will illustrate the Central Limit Theorem for the discrete random variables. Assume that\n",
    "X 1 , X 2 , . . . , X n are i.i.d. r.v.’s with uniform distribution on the set {0, . . . , k}, where k is equal to the sum of the digits of your id number. The task is to show that the distribution of the sample mean gets very close to a normalone (which one?) as n becomes large."
   ]
  },
  {
   "cell_type": "raw",
   "metadata": {},
   "source": [
    "Simulated the realization x1 , x2 , . . . , xn of the X i and calculate the sample mean s = x.\n",
    "Repeated this N times to get the sample s = (s 1 , . . . , s N ) of means.\n"
   ]
  },
  {
   "cell_type": "code",
   "execution_count": 50,
   "metadata": {
    "collapsed": false
   },
   "outputs": [
    {
     "data": {
      "text/html": [
       "0.0370000000000003"
      ],
      "text/latex": [
       "0.0370000000000003"
      ],
      "text/markdown": [
       "0.0370000000000003"
      ],
      "text/plain": [
       "[1] 0.037"
      ]
     },
     "metadata": {},
     "output_type": "display_data"
    },
    {
     "data": {
      "image/png": "[encoded data removed]",
      "text/plain": [
       "Plot with title “ecdf(s)”"
      ]
     },
     "metadata": {},
     "output_type": "display_data"
    }
   ],
   "source": [
    "problem4<- function(N, n){\n",
    "    a = matrix(sample(0:5, N*n, replace=T), N)   # 5 sum of id\n",
    "    s <- c()\n",
    "    for (i in 0:N) {\n",
    "        s[i] <-mean(a[i,])\n",
    "    }\n",
    "    Fd <- ecdf(s)\n",
    "    \n",
    "    sd_s <- sd(s)\n",
    "    mean_s <- mean(s)\n",
    "    \n",
    "    p <- seq(mean_s - 3 * sd_s, mean_s + 3 * sd_s, length.out=n)\n",
    "    cdf <- pnorm(p, mean=mean_s, sd=sd_s)\n",
    "    plot(Fd, col=\"blue\")\n",
    "    par(new=TRUE)\n",
    "    plot(cdf, col=\"red\")\n",
    "    return(max(abs(Fd(p)-cdf)))    # Maximum difference\n",
    "    \n",
    "\n",
    "}\n",
    "problem4(1000, 5)     #n=5"
   ]
  },
  {
   "cell_type": "code",
   "execution_count": 47,
   "metadata": {
    "collapsed": false
   },
   "outputs": [
    {
     "data": {
      "text/html": [
       "0.0225586598182361"
      ],
      "text/latex": [
       "0.0225586598182361"
      ],
      "text/markdown": [
       "0.0225586598182361"
      ],
      "text/plain": [
       "[1] 0.02255866"
      ]
     },
     "metadata": {},
     "output_type": "display_data"
    },
    {
     "data": {
      "image/png": "[encoded data removed]",
      "text/plain": [
       "Plot with title “ecdf(s)”"
      ]
     },
     "metadata": {},
     "output_type": "display_data"
    }
   ],
   "source": [
    "problem4<- function(N, n){\n",
    "    a = matrix(sample(0:5, N*n, replace=T), N)   # 5 sum of id\n",
    "    s <- c()\n",
    "    for (i in 0:N) {\n",
    "        s[i] <-mean(a[i,])\n",
    "    }\n",
    "    Fd <- ecdf(s)\n",
    "    \n",
    "    sd_s <- sd(s)\n",
    "    mean_s <- mean(s)\n",
    "    \n",
    "    p <- seq(mean_s - 3 * sd_s, mean_s + 3 * sd_s, length.out=n)\n",
    "    cdf <- pnorm(p, mean=mean_s, sd=sd_s)\n",
    "    plot(Fd, col=\"blue\")\n",
    "    par(new=TRUE)\n",
    "    plot(cdf, col=\"red\")\n",
    "    return(max(abs(Fd(p)-cdf)))\n",
    "    \n",
    "\n",
    "}\n",
    "problem4(1000, 10)     #n=10"
   ]
  },
  {
   "cell_type": "code",
   "execution_count": 44,
   "metadata": {
    "collapsed": false
   },
   "outputs": [
    {
     "data": {
      "text/html": [
       "0.0212698727164033"
      ],
      "text/latex": [
       "0.0212698727164033"
      ],
      "text/markdown": [
       "0.0212698727164033"
      ],
      "text/plain": [
       "[1] 0.02126987"
      ]
     },
     "metadata": {},
     "output_type": "display_data"
    },
    {
     "data": {
      "image/png": "[encoded data removed]",
      "text/plain": [
       "Plot with title “ecdf(s)”"
      ]
     },
     "metadata": {},
     "output_type": "display_data"
    }
   ],
   "source": [
    "problem4<- function(N, n){\n",
    "    a = matrix(sample(0:5, N*n, replace=T), N)   # 5 sum of id\n",
    "    s <- c()\n",
    "    for (i in 0:N) {\n",
    "        s[i] <-mean(a[i,])\n",
    "    }\n",
    "    Fd <- ecdf(s)\n",
    "    \n",
    "    sd_s <- sd(s)\n",
    "    mean_s <- mean(s)\n",
    "    \n",
    "    p <- seq(mean_s - 3 * sd_s, mean_s + 3 * sd_s, length.out=n)\n",
    "    cdf <- pnorm(p, mean=mean_s, sd=sd_s)\n",
    "    plot(Fd, col=\"blue\")\n",
    "    par(new=TRUE)\n",
    "    plot(cdf, col=\"red\")\n",
    "    return(max(abs(Fd(p)-cdf)))\n",
    "    \n",
    "\n",
    "}\n",
    "problem4(1000, 20)    #n=20"
   ]
  },
  {
   "cell_type": "markdown",
   "metadata": {},
   "source": [
    "## PROBLEM 5"
   ]
  },
  {
   "cell_type": "markdown",
   "metadata": {},
   "source": [
    "In this task, you will illustrate the Central Limit Theorem for the continuous random variables. Assume that\n",
    "X 1 , X 2 , . . . , X n are i.i.d. r.v.’s with exponential distribution E (λ), with λ =id number/10. The task is to show that the distribution of the sample mean gets very close to a normal one (which one?) as n becomes large."
   ]
  },
  {
   "cell_type": "raw",
   "metadata": {},
   "source": [
    "Simulated the realization x1 , x2 , . . . , xn of the X i and calculate the sample mean s = x.\n",
    "Repeated this N times to get the sample s = (s 1 , . . . , s N ) of means.\n"
   ]
  },
  {
   "cell_type": "code",
   "execution_count": 54,
   "metadata": {
    "collapsed": false
   },
   "outputs": [
    {
     "data": {
      "text/html": [
       "0.0450000000000002"
      ],
      "text/latex": [
       "0.0450000000000002"
      ],
      "text/markdown": [
       "0.0450000000000002"
      ],
      "text/plain": [
       "[1] 0.045"
      ]
     },
     "metadata": {},
     "output_type": "display_data"
    },
    {
     "data": {
      "image/png": "[encoded data removed]",
      "text/plain": [
       "Plot with title “ecdf(s)”"
      ]
     },
     "metadata": {},
     "output_type": "display_data"
    }
   ],
   "source": [
    "problem5<- function(N, n){\n",
    "    ld <- 5/10;\n",
    "    a = matrix(sample(rexp(n=n, rate=ld), N*n, replace=TRUE), N)   # 10/5 =0.5 \n",
    "    s <- c()\n",
    "    for (i in 1:N) {\n",
    "        s[i] <-mean(a[i,])\n",
    "    }\n",
    "    Fd <- ecdf(s)\n",
    "    \n",
    "    sd_s <- sd(s)\n",
    "    mean_s <- mean(s)\n",
    "    \n",
    "    p <- seq(mean_s - 3 * sd_s, mean_s + 3 * sd_s, length.out=n)\n",
    "    cdf <- pnorm(p, mean=mean_s, sd=sd_s)\n",
    "    plot(Fd, col=\"blue\")\n",
    "    par(new=TRUE)\n",
    "    plot(cdf, col=\"red\")\n",
    "    return(max(abs(Fd(p)-cdf)))\n",
    "    \n",
    "\n",
    "}\n",
    "problem5(1000, 5)"
   ]
  },
  {
   "cell_type": "code",
   "execution_count": 59,
   "metadata": {
    "collapsed": false
   },
   "outputs": [
    {
     "data": {
      "text/html": [
       "0.0274413401817639"
      ],
      "text/latex": [
       "0.0274413401817639"
      ],
      "text/markdown": [
       "0.0274413401817639"
      ],
      "text/plain": [
       "[1] 0.02744134"
      ]
     },
     "metadata": {},
     "output_type": "display_data"
    },
    {
     "data": {
      "image/png": "[encoded data removed]",
      "text/plain": [
       "Plot with title “ecdf(s)”"
      ]
     },
     "metadata": {},
     "output_type": "display_data"
    }
   ],
   "source": [
    "problem5<- function(N, n){\n",
    "    ld <- 5/10;\n",
    "    a = matrix(sample(rexp(n=n, rate=ld), N*n, replace=TRUE), N)   # 5 sum of     поділити на 10 =0.5 \n",
    "    s <- c()\n",
    "    for (i in 1:N) {\n",
    "        s[i] <-mean(a[i,])\n",
    "    }\n",
    "    Fd <- ecdf(s)\n",
    "    \n",
    "    sd_s <- sd(s)\n",
    "    mean_s <- mean(s)\n",
    "    \n",
    "    p <- seq(mean_s - 3 * sd_s, mean_s + 3 * sd_s, length.out=n)\n",
    "    cdf <- pnorm(p, mean=mean_s, sd=sd_s)\n",
    "    plot(Fd, col=\"blue\")\n",
    "    par(new=TRUE)\n",
    "    plot(cdf, col=\"red\")\n",
    "    return(max(abs(Fd(p)-cdf)))\n",
    "    \n",
    "\n",
    "}\n",
    "problem5(1000, 10)"
   ]
  },
  {
   "cell_type": "code",
   "execution_count": 61,
   "metadata": {
    "collapsed": false
   },
   "outputs": [
    {
     "data": {
      "text/html": [
       "0.0251374427451408"
      ],
      "text/latex": [
       "0.0251374427451408"
      ],
      "text/markdown": [
       "0.0251374427451408"
      ],
      "text/plain": [
       "[1] 0.02513744"
      ]
     },
     "metadata": {},
     "output_type": "display_data"
    },
    {
     "data": {
      "image/png": "[encoded data removed]",
      "text/plain": [
       "Plot with title “ecdf(s)”"
      ]
     },
     "metadata": {},
     "output_type": "display_data"
    }
   ],
   "source": [
    "problem5<- function(N, n){\n",
    "    ld <- 5/10;\n",
    "    a = matrix(sample(rexp(n=n, rate=ld), N*n, replace=TRUE), N)   # 5 sum of     поділити на 10 =0.5 \n",
    "    s <- c()\n",
    "    for (i in 1:N) {\n",
    "        s[i] <-mean(a[i,])\n",
    "    }\n",
    "    Fd <- ecdf(s)\n",
    "    \n",
    "    sd_s <- sd(s)\n",
    "    mean_s <- mean(s)\n",
    "    \n",
    "    p <- seq(mean_s - 3 * sd_s, mean_s + 3 * sd_s, length.out=n)\n",
    "    cdf <- pnorm(p, mean=mean_s, sd=sd_s)\n",
    "    plot(Fd, col=\"blue\")\n",
    "    par(new=TRUE)\n",
    "    plot(cdf, col=\"red\")\n",
    "    return(max(abs(Fd(p)-cdf)))\n",
    "    \n",
    "\n",
    "}\n",
    "problem5(1000, 20)"
   ]
  },
  {
   "cell_type": "code",
   "execution_count": null,
   "metadata": {
    "collapsed": true
   },
   "outputs": [],
   "source": []
  }
 ],
 "metadata": {
  "kernelspec": {
   "display_name": "R",
   "language": "R",
   "name": "ir"
  },
  "language_info": {
   "codemirror_mode": "r",
   "file_extension": ".r",
   "mimetype": "text/x-r-source",
   "name": "R",
   "pygments_lexer": "r",
   "version": "3.3.1"
  }
 },
 "nbformat": 4,
 "nbformat_minor": 0
}
